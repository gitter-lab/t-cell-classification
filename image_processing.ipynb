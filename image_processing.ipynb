{
 "cells": [
  {
   "cell_type": "markdown",
   "metadata": {},
   "source": [
    "# Image Processing\n",
    "\n",
    "In this notebook, we examine all raw cropped cell images and prepare them for classification by filtering and augmentation."
   ]
  },
  {
   "cell_type": "markdown",
   "metadata": {},
   "source": [
    "## 1. Image Examination\n",
    "\n",
    "It is a good practice to visualize all images together first. It helps us to get a big idea of what image processing methods are needed for the dataset.\n",
    "\n",
    "We can use [ImageMagic Montage](https://www.imagemagick.org) to easily display all images."
   ]
  },
  {
   "cell_type": "code",
   "execution_count": 1,
   "metadata": {},
   "outputs": [],
   "source": [
    "!montage ./images/sample_images/original/*/*/*.png ./plots/before_padding.png"
   ]
  },
  {
   "cell_type": "markdown",
   "metadata": {},
   "source": [
    "![](./plots/before_padding.png)"
   ]
  },
  {
   "cell_type": "markdown",
   "metadata": {},
   "source": [
    "## 2. Image Resizing\n",
    "\n",
    "We notice the size variation from all images. It is more convenient to work with images with equal shapes. Therefore, we want to assess the relationship between image size and cell activity classification, then choose image resizing methods accordingly."
   ]
  },
  {
   "cell_type": "markdown",
   "metadata": {},
   "source": [
    "### 2.1. Image Size Distribution"
   ]
  },
  {
   "cell_type": "code",
   "execution_count": 62,
   "metadata": {},
   "outputs": [],
   "source": [
    "import re\n",
    "import os\n",
    "import cv2\n",
    "import numpy as np\n",
    "import matplotlib.mlab as mlab\n",
    "import matplotlib.patches as mpatches\n",
    "from glob import glob\n",
    "from os.path import join, exists, basename, normpath, split\n",
    "from matplotlib import pyplot as plt\n",
    "from PIL import Image\n",
    "from shutil import copyfile"
   ]
  },
  {
   "cell_type": "code",
   "execution_count": 3,
   "metadata": {},
   "outputs": [],
   "source": [
    "def sum_hist(input_dir):\n",
    "    \"\"\"\n",
    "    Find the histogram over all grayscale images in the input_dir.\n",
    "    Instead of listing all images into one matrix, simply sum the intensity.\n",
    "    \n",
    "    Args:\n",
    "        input_dir (string): path of the directory containing all png images\n",
    "    \n",
    "    Returns:\n",
    "        array: A length 256 array corresponding to the pixel intensity frequency\n",
    "    \"\"\"\n",
    "    hist = np.zeros(256)\n",
    "    count = 0\n",
    "    for image in glob(join(input_dir, \"*.png\")):\n",
    "        # Read the image\n",
    "        img = cv2.imread(image, 0)\n",
    "        cur_hist = cv2.calcHist([img],[0], None, [256], [0,256]).flatten()\n",
    "        hist = hist + cur_hist\n",
    "        count += 1\n",
    "     \n",
    "    # Compute the frequency\n",
    "    return hist / sum(hist)"
   ]
  },
  {
   "cell_type": "code",
   "execution_count": 4,
   "metadata": {},
   "outputs": [
    {
     "data": {
      "image/png": "[encoded data removed]",
      "text/plain": [
       "<Figure size 600x400 with 1 Axes>"
      ]
     },
     "metadata": {
      "needs_background": "light"
     },
     "output_type": "display_data"
    }
   ],
   "source": [
    "# Plot the pixel intensity frequency \n",
    "act_hist = sum_hist(\"./images/sample_images/original/*/activated\")\n",
    "qui_hist = sum_hist(\"./images/sample_images/original/*/quiescent\")\n",
    "\n",
    "plt.figure(dpi=100)\n",
    "plt.bar(range(256), act_hist, width=1, align='center', color=\"pink\")\n",
    "plt.bar(range(256), qui_hist, width=1, align='center', color=(135/255, 206/255, 235/255, 0.4))\n",
    "pink_patch = mpatches.Patch(color='pink', label='Activated T-cell')\n",
    "blue_patch = mpatches.Patch(color=(135/255, 206/255, 235/255, 0.4), label='Quiescent T-cell')\n",
    "plt.legend(handles=[pink_patch, blue_patch])\n",
    "plt.ylabel('Frequency')\n",
    "plt.xlabel('Pixel Intensity')\n",
    "plt.show(2)"
   ]
  },
  {
   "cell_type": "markdown",
   "metadata": {},
   "source": [
    "### 2.2. Image Padding\n",
    "\n",
    "Based on the distribution above, quiescent cell images are more likely to have lower intensities (dimmer). Therefore, we want to preserve the original image size after unifying all image shapes. One way to achieve this is to add paddings to all images. We first find the largest width $w$ and height $h$, then make all images have the same square shape ($\\max\\left(w, h\\right) \\times \\max\\left(w, h\\right)$) by adding black borders around them.\n",
    "\n",
    "It is not necessarily to resize all images to the largest size. For example, if there are some extremely large images (outliers) in your dataset, you might want to discard them before choosing the $\\max\\left(w, h\\right)$."
   ]
  },
  {
   "cell_type": "code",
   "execution_count": 5,
   "metadata": {},
   "outputs": [],
   "source": [
    "def get_max_dimension(input_dir, top_num=3):\n",
    "    \"\"\"\n",
    "    Find `top_num` largest dimension (height or width) of all images in the input_dir.\n",
    "    You can visualize the image source to decide which diemsion value to use.\n",
    "    \n",
    "    Args:\n",
    "        input_dir (string): A directory containing png images\n",
    "        top_num (integer): Number of largest lengths to return\n",
    "    \n",
    "    Returns:\n",
    "        list(tuple): A list of top `top_num` dimension lengths and their associated\n",
    "            image names\n",
    "    \"\"\"\n",
    "    lengths = []\n",
    "    for image in glob(join(input_dir, \"*.png\")):\n",
    "        img = Image.open(image)\n",
    "        width, height = img.size\n",
    "        lengths.append((max([width, height]), image, width, height))\n",
    "\n",
    "    # Get the top 3 options\n",
    "    sorted_lengths = sorted(lengths, key=lambda x: x[0], reverse=True)\n",
    "    return sorted_lengths[:top_num]"
   ]
  },
  {
   "cell_type": "code",
   "execution_count": 32,
   "metadata": {},
   "outputs": [],
   "source": [
    "def add_padding(image, max_length, padding_color=\"black\", output=None):\n",
    "    \"\"\"\n",
    "    This function adds padding around the image so the new shape\n",
    "    is (max_length * max_length).\n",
    "    \n",
    "    Args:\n",
    "        image (string): path of the image file\n",
    "        max_length (int): output square length\n",
    "        padding_color (string): color of the borders\n",
    "        output (string): output path of the result image. If it is\n",
    "            None, then the new image is not saved\n",
    "    \n",
    "    Returns:\n",
    "        array: the new image\n",
    "    \"\"\"\n",
    "\n",
    "    img = Image.open(image)\n",
    "    width, height = img.size\n",
    "\n",
    "    # Create a new 8-bit B&W image with black background\n",
    "    new_image = Image.new('L', (max_length, max_length), color=padding_color)\n",
    "\n",
    "    # Put the original image in the center\n",
    "    x_shift = (max_length - width) // 2\n",
    "    y_shift = (max_length - height) // 2\n",
    "    new_image.paste(img, (x_shift, y_shift,\n",
    "                          width + x_shift, height + y_shift))\n",
    "    \n",
    "    # Save the image if needed\n",
    "    if output:\n",
    "        new_image.save(output)\n",
    "    \n",
    "    return np.array(new_image)"
   ]
  },
  {
   "cell_type": "code",
   "execution_count": 45,
   "metadata": {},
   "outputs": [
    {
     "data": {
      "image/png": "[encoded data removed]",
      "text/plain": [
       "<Figure size 432x288 with 3 Axes>"
      ]
     },
     "metadata": {
      "needs_background": "light"
     },
     "output_type": "display_data"
    }
   ],
   "source": [
    "# Display the three largest images\n",
    "largest_three = get_max_dimension(\"./images/sample_images/original/*/*\")\n",
    "\n",
    "# Add padding to these three images, so their displays have the same scale\n",
    "padded_top_three = [\n",
    "    add_padding(img[1], largest_three[0][0], padding_color=\"white\") for img in largest_three\n",
    "]\n",
    "\n",
    "fig=plt.figure()\n",
    "\n",
    "for i in range(3):\n",
    "    img = padded_top_three[i]\n",
    "    plt.subplot(1, 3, i+1)\n",
    "    plt.imshow(img, cmap=\"gray\")\n",
    "    plt.axis(\"off\")\n",
    "    plt.title(\"Image {}\\nSize = ({}, {})\".format(\n",
    "        i+1, largest_three[i][2], largest_three[i][3]))\n",
    "\n",
    "fig.suptitle(\"Top 3 Largest Images\")\n",
    "plt.show()"
   ]
  },
  {
   "cell_type": "markdown",
   "metadata": {},
   "source": [
    "There is a significant gap between the largest length $100$ and the second largest length $78$, and Image 1 looks like an outlier due to bad cropping. Even though image 2 and image 3 are likely to suffer from bad cropping, we will discard Image 1 and use $78$ as the largest length to resize other images."
   ]
  },
  {
   "cell_type": "code",
   "execution_count": 73,
   "metadata": {},
   "outputs": [],
   "source": [
    "# Add padding to all images except Image 1 above\n",
    "image_1 = largest_three[0][1]\n",
    "max_length = 78\n",
    "\n",
    "for image_path in glob(\"./images/sample_images/original/*/*/*.png\"):\n",
    "    # Ignore image 1\n",
    "    if image_path == image_1:\n",
    "        continue\n",
    "\n",
    "    # Get the output path\n",
    "    image_output = image_path.replace(\"original\", \"processed/padded\")\n",
    "    \n",
    "    # Create intermediate directories if they do not exist yet\n",
    "    intermediate_dirs, _ = os.path.split(image_output)\n",
    "    if not exists(intermediate_dirs):\n",
    "        os.makedirs(intermediate_dirs)\n",
    "    \n",
    "    # Process the current image\n",
    "    add_padding(image_path, max_length, padding_color=\"black\", output=image_output)"
   ]
  },
  {
   "cell_type": "markdown",
   "metadata": {},
   "source": [
    "Then, we can visualize all padded images."
   ]
  },
  {
   "cell_type": "code",
   "execution_count": 75,
   "metadata": {},
   "outputs": [],
   "source": [
    "!montage ./images/sample_images/processed/padded/*/*/*.png -geometry +1+1 ./plots/after_padding.png"
   ]
  },
  {
   "cell_type": "markdown",
   "metadata": {},
   "source": [
    "![](./plots/after_padding.png)"
   ]
  },
  {
   "cell_type": "markdown",
   "metadata": {},
   "source": [
    "## 3. Image Filtering\n",
    "\n",
    "As we have seen above, many images are very dim and there is no cell in the image. We want to design a filter to automatically detect those images.\n",
    "\n",
    "### 3.1. Entropy Distribution"
   ]
  }
 ],
 "metadata": {
  "kernelspec": {
   "display_name": "Python 3",
   "language": "python",
   "name": "python3"
  },
  "language_info": {
   "codemirror_mode": {
    "name": "ipython",
    "version": 3
   },
   "file_extension": ".py",
   "mimetype": "text/x-python",
   "name": "python",
   "nbconvert_exporter": "python",
   "pygments_lexer": "ipython3",
   "version": "3.6.8"
  }
 },
 "nbformat": 4,
 "nbformat_minor": 2
}
